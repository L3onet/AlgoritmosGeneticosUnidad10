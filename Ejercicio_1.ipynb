{
 "cells": [
  {
   "cell_type": "code",
   "execution_count": 3,
   "id": "65ae2275",
   "metadata": {},
   "outputs": [
    {
     "name": "stdout",
     "output_type": "stream",
     "text": [
      "Parámetros optimizados: [1.00001521 1.00003105]\n",
      "Valor mínimo: 2.7248397183202864e-10\n"
     ]
    }
   ],
   "source": [
    "import numpy as np\n",
    "from scipy.optimize import minimize\n",
    "\n",
    "# Función objetivo: Rosenbrock\n",
    "def rosenbrock(x):\n",
    "    return sum(100.0*(x[1:] - x[:-1]**2.0)**2.0 + (1 - x[:-1])**2.0)\n",
    "\n",
    "# Generación de población inicial\n",
    "def generate_initial_population(pop_size, dim, bounds):\n",
    "    return np.random.rand(pop_size, dim) * (bounds[:,1] - bounds[:,0]) + bounds[:,0]\n",
    "\n",
    "# Evaluación de la población\n",
    "def evaluate_population(population, objective_function):\n",
    "    return np.array([objective_function(ind) for ind in population])\n",
    "\n",
    "# Selección de los mejores individuos\n",
    "def select_best_individuals(population, fitness, num_best):\n",
    "    indices = np.argsort(fitness)\n",
    "    return population[indices[:num_best]]\n",
    "\n",
    "# Cruce de dos individuos\n",
    "def crossover(ind1, ind2):\n",
    "    alpha = np.random.rand()\n",
    "    return alpha * ind1 + (1 - alpha) * ind2\n",
    "\n",
    "# Mutación de un individuo\n",
    "def mutate(individual, mutation_rate, bounds):\n",
    "    for i in range(len(individual)):\n",
    "        if np.random.rand() < mutation_rate:\n",
    "            individual[i] += np.random.normal(0, 1) * (bounds[i,1] - bounds[i,0]) * 0.1\n",
    "            individual[i] = np.clip(individual[i], bounds[i,0], bounds[i,1])\n",
    "    return individual\n",
    "\n",
    "# Optimización Híbrida GA-Nelder-Mead\n",
    "def hybrid_ga(objective_function, bounds, pop_size, generations, num_best, mutation_rate):\n",
    "    dim = bounds.shape[0]\n",
    "    population = generate_initial_population(pop_size, dim, bounds)\n",
    "    \n",
    "    for generation in range(generations):\n",
    "        fitness = evaluate_population(population, objective_function)\n",
    "        best_individuals = select_best_individuals(population, fitness, num_best)\n",
    "        \n",
    "        # Generación de nueva población\n",
    "        new_population = []\n",
    "        while len(new_population) < pop_size:\n",
    "            parents = best_individuals[np.random.choice(num_best, 2, replace=False)]\n",
    "            child = crossover(parents[0], parents[1])\n",
    "            child = mutate(child, mutation_rate, bounds)\n",
    "            new_population.append(child)\n",
    "        population = np.array(new_population)\n",
    "        \n",
    "    # Optimización local Nelder-Mead en las mejores soluciones\n",
    "    final_fitness = evaluate_population(population, objective_function)\n",
    "    best_individual = population[np.argmin(final_fitness)]\n",
    "    result = minimize(objective_function, best_individual, method='Nelder-Mead')\n",
    "    \n",
    "    return result\n",
    "\n",
    "# Parámetros\n",
    "bounds = np.array([[-2, 2], [-2, 2]])\n",
    "pop_size = 50\n",
    "generations = 100\n",
    "num_best = 10\n",
    "mutation_rate = 0.05\n",
    "\n",
    "# Ejecución del algoritmo híbrido\n",
    "result = hybrid_ga(rosenbrock, bounds, pop_size, generations, num_best, mutation_rate)\n",
    "print(f\"Parámetros optimizados: {result.x}\")\n",
    "print(f\"Valor mínimo: {result.fun}\")\n"
   ]
  }
 ],
 "metadata": {
  "kernelspec": {
   "display_name": "Python 3 (ipykernel)",
   "language": "python",
   "name": "python3"
  },
  "language_info": {
   "codemirror_mode": {
    "name": "ipython",
    "version": 3
   },
   "file_extension": ".py",
   "mimetype": "text/x-python",
   "name": "python",
   "nbconvert_exporter": "python",
   "pygments_lexer": "ipython3",
   "version": "3.9.16"
  }
 },
 "nbformat": 4,
 "nbformat_minor": 5
}
