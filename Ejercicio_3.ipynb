{
 "cells": [
  {
   "cell_type": "code",
   "execution_count": 4,
   "id": "789174f5",
   "metadata": {},
   "outputs": [
    {
     "name": "stdout",
     "output_type": "stream",
     "text": [
      "Parámetros optimizados: [0.99999443 0.9999922 ]\n",
      "Valor mínimo: 1.1437583542991346e-09\n"
     ]
    }
   ],
   "source": [
    "import numpy as np\n",
    "from scipy.optimize import minimize\n",
    "\n",
    "def rosenbrock(x):\n",
    "    \"\"\"\n",
    "    La función de Rosenbrock.\n",
    "    \"\"\"\n",
    "    return sum(100.0*(x[1:]-x[:-1]**2.0)**2.0 + (1-x[:-1])**2.0)\n",
    "\n",
    "class Particle:\n",
    "    def __init__(self, x0):\n",
    "        self.position = x0\n",
    "        self.velocity = np.zeros_like(x0)\n",
    "        self.best_position = np.copy(x0)\n",
    "        self.best_value = np.inf\n",
    "        self.value = np.inf\n",
    "\n",
    "def pso(function, bounds, num_particles, iterations):\n",
    "    \"\"\"\n",
    "    Algoritmo de Optimización por Enjambre de Partículas (PSO).\n",
    "    \"\"\"\n",
    "    dim = len(bounds)\n",
    "    swarm = [Particle(bounds[:, 0] + (bounds[:, 1] - bounds[:, 0]) * np.random.rand(dim)) for _ in range(num_particles)]\n",
    "    global_best = np.zeros(dim)\n",
    "    global_best_value = np.inf\n",
    "    \n",
    "    for t in range(iterations):\n",
    "        for particle in swarm:\n",
    "            particle.value = function(particle.position)\n",
    "            if particle.value < particle.best_value:\n",
    "                particle.best_value = particle.value\n",
    "                particle.best_position = particle.position\n",
    "            if particle.value < global_best_value:\n",
    "                global_best_value = particle.value\n",
    "                global_best = particle.position\n",
    "                \n",
    "        for particle in swarm:\n",
    "            r1, r2 = np.random.rand(dim), np.random.rand(dim)\n",
    "            cognitive = 2.05 * r1 * (particle.best_position - particle.position)\n",
    "            social = 2.05 * r2 * (global_best - particle.position)\n",
    "            particle.velocity = 0.729 * (particle.velocity + cognitive + social)\n",
    "            particle.position += particle.velocity\n",
    "            \n",
    "            # Mantener las partículas dentro de los límites\n",
    "            particle.position = np.clip(particle.position, bounds[:, 0], bounds[:, 1])\n",
    "    \n",
    "    # Optimización local usando Nelder-Mead en el mejor global encontrado por PSO\n",
    "    result = minimize(function, global_best, method='Nelder-Mead')\n",
    "    return result\n",
    "\n",
    "# Parámetros\n",
    "bounds = np.array([[-2, 2], [-2, 2]])\n",
    "num_particles = 30\n",
    "iterations = 100\n",
    "\n",
    "# Ejecución del PSO híbrido\n",
    "result = pso(rosenbrock, bounds, num_particles, iterations)\n",
    "print(\"Parámetros optimizados:\", result.x)\n",
    "print(\"Valor mínimo:\", result.fun)\n"
   ]
  }
 ],
 "metadata": {
  "kernelspec": {
   "display_name": "Python 3 (ipykernel)",
   "language": "python",
   "name": "python3"
  },
  "language_info": {
   "codemirror_mode": {
    "name": "ipython",
    "version": 3
   },
   "file_extension": ".py",
   "mimetype": "text/x-python",
   "name": "python",
   "nbconvert_exporter": "python",
   "pygments_lexer": "ipython3",
   "version": "3.9.16"
  }
 },
 "nbformat": 4,
 "nbformat_minor": 5
}
